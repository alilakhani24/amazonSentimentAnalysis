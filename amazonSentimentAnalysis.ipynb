{
 "cells": [
  {
   "cell_type": "markdown",
   "metadata": {},
   "source": [
    "## Amazon Cell Phones and Accessories Sentiment Analysis "
   ]
  },
  {
   "cell_type": "code",
   "execution_count": 112,
   "metadata": {},
   "outputs": [],
   "source": [
    "## Objective: Classify reviews on Amazon products to determine positively and negatively reviewed products \n",
    "\n",
    "## Inspiration: Can be used to update sort algorithm on discovery page to promote highly rated items\n",
    "\n",
    "## Business use: \n",
    "## - Relying on customer score is prone to subjective bias\n",
    "## - Only considers typed reviews instead of scores that can be manipulated by bots\n",
    "## - Can couple with secondary classification to determine common problems on certain items\n",
    "\n",
    "## Method: Will use NLP text classification (binary sentiment analysis)\n",
    "\n",
    "## Dataset: The following classification uses an opensource Amazon data set provided by \n",
    "## J. McAuley, C. Targett, J. Shi, A. van den Hengel SIGIR, 2015"
   ]
  },
  {
   "cell_type": "code",
   "execution_count": 113,
   "metadata": {},
   "outputs": [
    {
     "name": "stderr",
     "output_type": "stream",
     "text": [
      "[nltk_data] Downloading package wordnet to\n",
      "[nltk_data]     /Users/alilakhani/nltk_data...\n",
      "[nltk_data]   Package wordnet is already up-to-date!\n",
      "[nltk_data] Downloading package stopwords to\n",
      "[nltk_data]     /Users/alilakhani/nltk_data...\n",
      "[nltk_data]   Package stopwords is already up-to-date!\n",
      "[nltk_data] Downloading package averaged_perceptron_tagger to\n",
      "[nltk_data]     /Users/alilakhani/nltk_data...\n",
      "[nltk_data]   Package averaged_perceptron_tagger is already up-to-\n",
      "[nltk_data]       date!\n"
     ]
    },
    {
     "data": {
      "text/plain": [
       "True"
      ]
     },
     "execution_count": 113,
     "metadata": {},
     "output_type": "execute_result"
    }
   ],
   "source": [
    "import json\n",
    "import pandas as pd \n",
    "import numpy as np\n",
    "import re\n",
    "import string\n",
    "import matplotlib.pyplot as plt \n",
    "\n",
    "from sklearn.model_selection import train_test_split\n",
    "from sklearn.feature_extraction.text import TfidfVectorizer\n",
    "from sklearn.metrics import confusion_matrix \n",
    "from sklearn.metrics import classification_report\n",
    "from wordcloud import WordCloud, STOPWORDS, ImageColorGenerator\n",
    "from sklearn.feature_selection import chi2\n",
    "from sklearn import svm\n",
    "from sklearn.naive_bayes import MultinomialNB\n",
    "from sklearn.ensemble import VotingClassifier\n",
    "from sklearn.ensemble import RandomForestClassifier\n",
    "from sklearn.linear_model import LogisticRegression\n",
    "\n",
    "import pickle\n",
    "import nltk\n",
    "from nltk.tokenize import RegexpTokenizer\n",
    "from nltk import pos_tag\n",
    "from nltk.corpus import stopwords\n",
    "from nltk.tokenize import WhitespaceTokenizer\n",
    "from nltk.stem import WordNetLemmatizer\n",
    "from nltk.corpus import wordnet\n",
    "from nltk import word_tokenize\n",
    "nltk.download('wordnet')\n",
    "nltk.download('stopwords')\n",
    "nltk.download('averaged_perceptron_tagger')\n"
   ]
  },
  {
   "cell_type": "markdown",
   "metadata": {},
   "source": [
    "## Step1: read data and format "
   ]
  },
  {
   "cell_type": "code",
   "execution_count": 114,
   "metadata": {},
   "outputs": [
    {
     "data": {
      "text/html": [
       "<div>\n",
       "<style scoped>\n",
       "    .dataframe tbody tr th:only-of-type {\n",
       "        vertical-align: middle;\n",
       "    }\n",
       "\n",
       "    .dataframe tbody tr th {\n",
       "        vertical-align: top;\n",
       "    }\n",
       "\n",
       "    .dataframe thead th {\n",
       "        text-align: right;\n",
       "    }\n",
       "</style>\n",
       "<table border=\"1\" class=\"dataframe\">\n",
       "  <thead>\n",
       "    <tr style=\"text-align: right;\">\n",
       "      <th></th>\n",
       "      <th>reviewerID</th>\n",
       "      <th>asin</th>\n",
       "      <th>reviewerName</th>\n",
       "      <th>helpful</th>\n",
       "      <th>reviewText</th>\n",
       "      <th>overall</th>\n",
       "      <th>summary</th>\n",
       "      <th>unixReviewTime</th>\n",
       "      <th>reviewTime</th>\n",
       "    </tr>\n",
       "  </thead>\n",
       "  <tbody>\n",
       "    <tr>\n",
       "      <th>0</th>\n",
       "      <td>A30TL5EWN6DFXT</td>\n",
       "      <td>120401325X</td>\n",
       "      <td>christina</td>\n",
       "      <td>[0, 0]</td>\n",
       "      <td>They look good and stick good! I just don't li...</td>\n",
       "      <td>4</td>\n",
       "      <td>Looks Good</td>\n",
       "      <td>1400630400</td>\n",
       "      <td>05 21, 2014</td>\n",
       "    </tr>\n",
       "    <tr>\n",
       "      <th>1</th>\n",
       "      <td>ASY55RVNIL0UD</td>\n",
       "      <td>120401325X</td>\n",
       "      <td>emily l.</td>\n",
       "      <td>[0, 0]</td>\n",
       "      <td>These stickers work like the review says they ...</td>\n",
       "      <td>5</td>\n",
       "      <td>Really great product.</td>\n",
       "      <td>1389657600</td>\n",
       "      <td>01 14, 2014</td>\n",
       "    </tr>\n",
       "    <tr>\n",
       "      <th>2</th>\n",
       "      <td>A2TMXE2AFO7ONB</td>\n",
       "      <td>120401325X</td>\n",
       "      <td>Erica</td>\n",
       "      <td>[0, 0]</td>\n",
       "      <td>These are awesome and make my phone look so st...</td>\n",
       "      <td>5</td>\n",
       "      <td>LOVE LOVE LOVE</td>\n",
       "      <td>1403740800</td>\n",
       "      <td>06 26, 2014</td>\n",
       "    </tr>\n",
       "    <tr>\n",
       "      <th>3</th>\n",
       "      <td>AWJ0WZQYMYFQ4</td>\n",
       "      <td>120401325X</td>\n",
       "      <td>JM</td>\n",
       "      <td>[4, 4]</td>\n",
       "      <td>Item arrived in great time and was in perfect ...</td>\n",
       "      <td>4</td>\n",
       "      <td>Cute!</td>\n",
       "      <td>1382313600</td>\n",
       "      <td>10 21, 2013</td>\n",
       "    </tr>\n",
       "    <tr>\n",
       "      <th>4</th>\n",
       "      <td>ATX7CZYFXI1KW</td>\n",
       "      <td>120401325X</td>\n",
       "      <td>patrice m rogoza</td>\n",
       "      <td>[2, 3]</td>\n",
       "      <td>awesome! stays on, and looks great. can be use...</td>\n",
       "      <td>5</td>\n",
       "      <td>leopard home button sticker for iphone 4s</td>\n",
       "      <td>1359849600</td>\n",
       "      <td>02 3, 2013</td>\n",
       "    </tr>\n",
       "  </tbody>\n",
       "</table>\n",
       "</div>"
      ],
      "text/plain": [
       "       reviewerID        asin      reviewerName helpful  \\\n",
       "0  A30TL5EWN6DFXT  120401325X         christina  [0, 0]   \n",
       "1   ASY55RVNIL0UD  120401325X          emily l.  [0, 0]   \n",
       "2  A2TMXE2AFO7ONB  120401325X             Erica  [0, 0]   \n",
       "3   AWJ0WZQYMYFQ4  120401325X                JM  [4, 4]   \n",
       "4   ATX7CZYFXI1KW  120401325X  patrice m rogoza  [2, 3]   \n",
       "\n",
       "                                          reviewText  overall  \\\n",
       "0  They look good and stick good! I just don't li...        4   \n",
       "1  These stickers work like the review says they ...        5   \n",
       "2  These are awesome and make my phone look so st...        5   \n",
       "3  Item arrived in great time and was in perfect ...        4   \n",
       "4  awesome! stays on, and looks great. can be use...        5   \n",
       "\n",
       "                                     summary  unixReviewTime   reviewTime  \n",
       "0                                 Looks Good      1400630400  05 21, 2014  \n",
       "1                      Really great product.      1389657600  01 14, 2014  \n",
       "2                             LOVE LOVE LOVE      1403740800  06 26, 2014  \n",
       "3                                      Cute!      1382313600  10 21, 2013  \n",
       "4  leopard home button sticker for iphone 4s      1359849600   02 3, 2013  "
      ]
     },
     "execution_count": 114,
     "metadata": {},
     "output_type": "execute_result"
    }
   ],
   "source": [
    "## Read json data \n",
    "\n",
    "df = pd.read_json('cellphoneDataSet.json', lines=True)\n",
    "df.head()"
   ]
  },
  {
   "cell_type": "code",
   "execution_count": 115,
   "metadata": {},
   "outputs": [
    {
     "data": {
      "text/html": [
       "<div>\n",
       "<style scoped>\n",
       "    .dataframe tbody tr th:only-of-type {\n",
       "        vertical-align: middle;\n",
       "    }\n",
       "\n",
       "    .dataframe tbody tr th {\n",
       "        vertical-align: top;\n",
       "    }\n",
       "\n",
       "    .dataframe thead th {\n",
       "        text-align: right;\n",
       "    }\n",
       "</style>\n",
       "<table border=\"1\" class=\"dataframe\">\n",
       "  <thead>\n",
       "    <tr style=\"text-align: right;\">\n",
       "      <th></th>\n",
       "      <th>reviewText</th>\n",
       "      <th>overall</th>\n",
       "    </tr>\n",
       "  </thead>\n",
       "  <tbody>\n",
       "    <tr>\n",
       "      <th>0</th>\n",
       "      <td>They look good and stick good! I just don't li...</td>\n",
       "      <td>4</td>\n",
       "    </tr>\n",
       "    <tr>\n",
       "      <th>1</th>\n",
       "      <td>These stickers work like the review says they ...</td>\n",
       "      <td>5</td>\n",
       "    </tr>\n",
       "    <tr>\n",
       "      <th>2</th>\n",
       "      <td>These are awesome and make my phone look so st...</td>\n",
       "      <td>5</td>\n",
       "    </tr>\n",
       "    <tr>\n",
       "      <th>3</th>\n",
       "      <td>Item arrived in great time and was in perfect ...</td>\n",
       "      <td>4</td>\n",
       "    </tr>\n",
       "    <tr>\n",
       "      <th>4</th>\n",
       "      <td>awesome! stays on, and looks great. can be use...</td>\n",
       "      <td>5</td>\n",
       "    </tr>\n",
       "  </tbody>\n",
       "</table>\n",
       "</div>"
      ],
      "text/plain": [
       "                                          reviewText  overall\n",
       "0  They look good and stick good! I just don't li...        4\n",
       "1  These stickers work like the review says they ...        5\n",
       "2  These are awesome and make my phone look so st...        5\n",
       "3  Item arrived in great time and was in perfect ...        4\n",
       "4  awesome! stays on, and looks great. can be use...        5"
      ]
     },
     "execution_count": 115,
     "metadata": {},
     "output_type": "execute_result"
    }
   ],
   "source": [
    "## Drop columns that will not be evaluated \n",
    "\n",
    "df = df.drop(['reviewerID','asin','reviewerName', 'helpful', 'summary', 'unixReviewTime', 'reviewTime'],axis=1)\n",
    "df.head()"
   ]
  },
  {
   "cell_type": "code",
   "execution_count": 116,
   "metadata": {},
   "outputs": [
    {
     "data": {
      "text/html": [
       "<div>\n",
       "<style scoped>\n",
       "    .dataframe tbody tr th:only-of-type {\n",
       "        vertical-align: middle;\n",
       "    }\n",
       "\n",
       "    .dataframe tbody tr th {\n",
       "        vertical-align: top;\n",
       "    }\n",
       "\n",
       "    .dataframe thead th {\n",
       "        text-align: right;\n",
       "    }\n",
       "</style>\n",
       "<table border=\"1\" class=\"dataframe\">\n",
       "  <thead>\n",
       "    <tr style=\"text-align: right;\">\n",
       "      <th></th>\n",
       "      <th>reviewText</th>\n",
       "      <th>overall</th>\n",
       "    </tr>\n",
       "  </thead>\n",
       "  <tbody>\n",
       "  </tbody>\n",
       "</table>\n",
       "</div>"
      ],
      "text/plain": [
       "Empty DataFrame\n",
       "Columns: [reviewText, overall]\n",
       "Index: []"
      ]
     },
     "execution_count": 116,
     "metadata": {},
     "output_type": "execute_result"
    }
   ],
   "source": [
    "## Check if 0 is a value in overall rating\n",
    "\n",
    "df.loc[df['overall'] == 0]"
   ]
  },
  {
   "cell_type": "code",
   "execution_count": 117,
   "metadata": {},
   "outputs": [
    {
     "data": {
      "text/html": [
       "<div>\n",
       "<style scoped>\n",
       "    .dataframe tbody tr th:only-of-type {\n",
       "        vertical-align: middle;\n",
       "    }\n",
       "\n",
       "    .dataframe tbody tr th {\n",
       "        vertical-align: top;\n",
       "    }\n",
       "\n",
       "    .dataframe thead th {\n",
       "        text-align: right;\n",
       "    }\n",
       "</style>\n",
       "<table border=\"1\" class=\"dataframe\">\n",
       "  <thead>\n",
       "    <tr style=\"text-align: right;\">\n",
       "      <th></th>\n",
       "      <th>reviewText</th>\n",
       "      <th>overall</th>\n",
       "      <th>sentiment</th>\n",
       "    </tr>\n",
       "  </thead>\n",
       "  <tbody>\n",
       "    <tr>\n",
       "      <th>0</th>\n",
       "      <td>They look good and stick good! I just don't li...</td>\n",
       "      <td>4</td>\n",
       "      <td>NaN</td>\n",
       "    </tr>\n",
       "    <tr>\n",
       "      <th>1</th>\n",
       "      <td>These stickers work like the review says they ...</td>\n",
       "      <td>5</td>\n",
       "      <td>1.0</td>\n",
       "    </tr>\n",
       "    <tr>\n",
       "      <th>2</th>\n",
       "      <td>These are awesome and make my phone look so st...</td>\n",
       "      <td>5</td>\n",
       "      <td>1.0</td>\n",
       "    </tr>\n",
       "    <tr>\n",
       "      <th>3</th>\n",
       "      <td>Item arrived in great time and was in perfect ...</td>\n",
       "      <td>4</td>\n",
       "      <td>NaN</td>\n",
       "    </tr>\n",
       "    <tr>\n",
       "      <th>4</th>\n",
       "      <td>awesome! stays on, and looks great. can be use...</td>\n",
       "      <td>5</td>\n",
       "      <td>1.0</td>\n",
       "    </tr>\n",
       "  </tbody>\n",
       "</table>\n",
       "</div>"
      ],
      "text/plain": [
       "                                          reviewText  overall  sentiment\n",
       "0  They look good and stick good! I just don't li...        4        NaN\n",
       "1  These stickers work like the review says they ...        5        1.0\n",
       "2  These are awesome and make my phone look so st...        5        1.0\n",
       "3  Item arrived in great time and was in perfect ...        4        NaN\n",
       "4  awesome! stays on, and looks great. can be use...        5        1.0"
      ]
     },
     "execution_count": 117,
     "metadata": {},
     "output_type": "execute_result"
    }
   ],
   "source": [
    "## Function to create a new binary label based on the overall rating column \n",
    "\n",
    "def create_flag(line):\n",
    "    if (line['overall'] >= 5):\n",
    "        return 1\n",
    "    if ((line['overall'] >= 1) & (line['overall'] <= 2)):\n",
    "        return 0\n",
    "    \n",
    "df['sentiment'] = df.apply (lambda line: create_flag(line), axis=1)\n",
    "df.head()"
   ]
  },
  {
   "cell_type": "code",
   "execution_count": 118,
   "metadata": {},
   "outputs": [
    {
     "name": "stdout",
     "output_type": "stream",
     "text": [
      "Shape:  (194439, 3)\n"
     ]
    },
    {
     "data": {
      "text/plain": [
       "reviewText    False\n",
       "overall       False\n",
       "sentiment      True\n",
       "dtype: bool"
      ]
     },
     "execution_count": 118,
     "metadata": {},
     "output_type": "execute_result"
    }
   ],
   "source": [
    "## Evaluate shape of df to check for empty cells and view number of samples \n",
    "\n",
    "print('Shape: ',df.shape)\n",
    "df.isna().any()"
   ]
  },
  {
   "cell_type": "code",
   "execution_count": 119,
   "metadata": {},
   "outputs": [
    {
     "name": "stdout",
     "output_type": "stream",
     "text": [
      "Shape:  (133007, 3)\n"
     ]
    },
    {
     "data": {
      "text/plain": [
       "reviewText    False\n",
       "overall       False\n",
       "sentiment     False\n",
       "dtype: bool"
      ]
     },
     "execution_count": 119,
     "metadata": {},
     "output_type": "execute_result"
    }
   ],
   "source": [
    "## drop na feedback\n",
    "\n",
    "df = df.dropna(subset=['sentiment'])\n",
    "print('Shape: ',df.shape)\n",
    "df.isna().any()"
   ]
  },
  {
   "cell_type": "code",
   "execution_count": 120,
   "metadata": {},
   "outputs": [
    {
     "name": "stdout",
     "output_type": "stream",
     "text": [
      "(132827, 3)\n"
     ]
    },
    {
     "data": {
      "text/html": [
       "<div>\n",
       "<style scoped>\n",
       "    .dataframe tbody tr th:only-of-type {\n",
       "        vertical-align: middle;\n",
       "    }\n",
       "\n",
       "    .dataframe tbody tr th {\n",
       "        vertical-align: top;\n",
       "    }\n",
       "\n",
       "    .dataframe thead th {\n",
       "        text-align: right;\n",
       "    }\n",
       "</style>\n",
       "<table border=\"1\" class=\"dataframe\">\n",
       "  <thead>\n",
       "    <tr style=\"text-align: right;\">\n",
       "      <th></th>\n",
       "      <th>reviewText</th>\n",
       "      <th>overall</th>\n",
       "      <th>sentiment</th>\n",
       "    </tr>\n",
       "  </thead>\n",
       "  <tbody>\n",
       "    <tr>\n",
       "      <th>1</th>\n",
       "      <td>These stickers work like the review says they ...</td>\n",
       "      <td>5</td>\n",
       "      <td>1.0</td>\n",
       "    </tr>\n",
       "    <tr>\n",
       "      <th>2</th>\n",
       "      <td>These are awesome and make my phone look so st...</td>\n",
       "      <td>5</td>\n",
       "      <td>1.0</td>\n",
       "    </tr>\n",
       "    <tr>\n",
       "      <th>4</th>\n",
       "      <td>awesome! stays on, and looks great. can be use...</td>\n",
       "      <td>5</td>\n",
       "      <td>1.0</td>\n",
       "    </tr>\n",
       "    <tr>\n",
       "      <th>6</th>\n",
       "      <td>Came just as described.. It doesn't come unstu...</td>\n",
       "      <td>5</td>\n",
       "      <td>1.0</td>\n",
       "    </tr>\n",
       "    <tr>\n",
       "      <th>7</th>\n",
       "      <td>it worked for the first week then it only char...</td>\n",
       "      <td>1</td>\n",
       "      <td>0.0</td>\n",
       "    </tr>\n",
       "  </tbody>\n",
       "</table>\n",
       "</div>"
      ],
      "text/plain": [
       "                                          reviewText  overall  sentiment\n",
       "1  These stickers work like the review says they ...        5        1.0\n",
       "2  These are awesome and make my phone look so st...        5        1.0\n",
       "4  awesome! stays on, and looks great. can be use...        5        1.0\n",
       "6  Came just as described.. It doesn't come unstu...        5        1.0\n",
       "7  it worked for the first week then it only char...        1        0.0"
      ]
     },
     "execution_count": 120,
     "metadata": {},
     "output_type": "execute_result"
    }
   ],
   "source": [
    "## Remove duplicate rows to avoid overfitting \n",
    "\n",
    "df.drop_duplicates(inplace = True)\n",
    "print(df.shape)\n",
    "df.head()"
   ]
  },
  {
   "cell_type": "code",
   "execution_count": 121,
   "metadata": {},
   "outputs": [
    {
     "data": {
      "text/html": [
       "<div>\n",
       "<style scoped>\n",
       "    .dataframe tbody tr th:only-of-type {\n",
       "        vertical-align: middle;\n",
       "    }\n",
       "\n",
       "    .dataframe tbody tr th {\n",
       "        vertical-align: top;\n",
       "    }\n",
       "\n",
       "    .dataframe thead th {\n",
       "        text-align: right;\n",
       "    }\n",
       "</style>\n",
       "<table border=\"1\" class=\"dataframe\">\n",
       "  <thead>\n",
       "    <tr style=\"text-align: right;\">\n",
       "      <th></th>\n",
       "      <th>reviewText</th>\n",
       "      <th>overall</th>\n",
       "      <th>sentiment</th>\n",
       "    </tr>\n",
       "  </thead>\n",
       "  <tbody>\n",
       "    <tr>\n",
       "      <th>0</th>\n",
       "      <td>These stickers work like the review says they ...</td>\n",
       "      <td>5</td>\n",
       "      <td>1.0</td>\n",
       "    </tr>\n",
       "    <tr>\n",
       "      <th>1</th>\n",
       "      <td>These are awesome and make my phone look so st...</td>\n",
       "      <td>5</td>\n",
       "      <td>1.0</td>\n",
       "    </tr>\n",
       "    <tr>\n",
       "      <th>2</th>\n",
       "      <td>awesome! stays on, and looks great. can be use...</td>\n",
       "      <td>5</td>\n",
       "      <td>1.0</td>\n",
       "    </tr>\n",
       "    <tr>\n",
       "      <th>3</th>\n",
       "      <td>Came just as described.. It doesn't come unstu...</td>\n",
       "      <td>5</td>\n",
       "      <td>1.0</td>\n",
       "    </tr>\n",
       "    <tr>\n",
       "      <th>4</th>\n",
       "      <td>it worked for the first week then it only char...</td>\n",
       "      <td>1</td>\n",
       "      <td>0.0</td>\n",
       "    </tr>\n",
       "  </tbody>\n",
       "</table>\n",
       "</div>"
      ],
      "text/plain": [
       "                                          reviewText  overall  sentiment\n",
       "0  These stickers work like the review says they ...        5        1.0\n",
       "1  These are awesome and make my phone look so st...        5        1.0\n",
       "2  awesome! stays on, and looks great. can be use...        5        1.0\n",
       "3  Came just as described.. It doesn't come unstu...        5        1.0\n",
       "4  it worked for the first week then it only char...        1        0.0"
      ]
     },
     "execution_count": 121,
     "metadata": {},
     "output_type": "execute_result"
    }
   ],
   "source": [
    "## Reset index\n",
    "\n",
    "df = df.reset_index(drop = True)\n",
    "df.head()"
   ]
  },
  {
   "cell_type": "code",
   "execution_count": 122,
   "metadata": {},
   "outputs": [
    {
     "name": "stdout",
     "output_type": "stream",
     "text": [
      "sentiment\n",
      "0.0     24329\n",
      "1.0    108498\n",
      "dtype: int64\n"
     ]
    }
   ],
   "source": [
    "## Quick glance at how many of each category is present \n",
    "\n",
    "sample_split = df.groupby(['sentiment']).size()\n",
    "print(sample_split)"
   ]
  },
  {
   "cell_type": "markdown",
   "metadata": {},
   "source": [
    "## Step 2: data cleaning for classification"
   ]
  },
  {
   "cell_type": "code",
   "execution_count": 123,
   "metadata": {},
   "outputs": [
    {
     "name": "stdout",
     "output_type": "stream",
     "text": [
      "These stickers work like the review says they do. They stick on great and they stay on the phone. They are super stylish and I can share them with my sister. :)\n",
      "1.0\n"
     ]
    }
   ],
   "source": [
    "## Glance at a specific headline \n",
    "\n",
    "print(df.loc[0]['reviewText'])\n",
    "print(df.loc[0]['sentiment'])"
   ]
  },
  {
   "cell_type": "code",
   "execution_count": 124,
   "metadata": {},
   "outputs": [],
   "source": [
    "## Some notes on pottential things to clean for standardizing the text \n",
    "## lowercase \n",
    "## numbers (how to deal with numbers?)\n",
    "## stop words \n",
    "## lemmatization \n",
    "## special characters i.e \\r, \\n, /, ?, ! etc "
   ]
  },
  {
   "cell_type": "code",
   "execution_count": 125,
   "metadata": {},
   "outputs": [],
   "source": [
    "## Create a function that takes numbers in a string and converts them based on the following \n",
    "## if $ in string  = \"amt\"\n",
    "## if % in string  = \"pct\"\n",
    "## if just numbers = \"num\"\n",
    "\n",
    "list_punctuations = ['.', '!', '?', '#', '-', '*', '\\\"', ';', ':', '\\/', '\\'']\n",
    "\n",
    "def replace_punc(text):\n",
    "    for char in list_punctuations:  \n",
    "        text = text.replace(char,'')\n",
    "    return text \n",
    "    \n",
    "def replace_num(text):\n",
    "    # remove words that contain numbers\n",
    "    str = []\n",
    "    for word in text.split():\n",
    "        if ((\"%\" in word) and (('0' in word) or\n",
    "                               ('1' in word) or \n",
    "                               ('2' in word) or \n",
    "                               ('3' in word) or\n",
    "                               ('4' in word) or\n",
    "                               ('5' in word) or\n",
    "                               ('6' in word) or\n",
    "                               ('7' in word) or\n",
    "                               ('8' in word) or\n",
    "                               ('9' in word))):\n",
    "            str.append('pct')\n",
    "        elif ((\"$\" in word) and (('0' in word) or\n",
    "                               ('1' in word) or \n",
    "                               ('2' in word) or \n",
    "                               ('3' in word) or\n",
    "                               ('4' in word) or\n",
    "                               ('5' in word) or\n",
    "                               ('6' in word) or\n",
    "                               ('7' in word) or\n",
    "                               ('8' in word) or\n",
    "                               ('9' in word))):\n",
    "            str.append('amt')\n",
    "        elif (word.isnumeric()):\n",
    "            str.append('num')\n",
    "        else:\n",
    "            str.append(word)\n",
    "    return (\" \".join(str))"
   ]
  },
  {
   "cell_type": "code",
   "execution_count": 126,
   "metadata": {},
   "outputs": [
    {
     "name": "stdout",
     "output_type": "stream",
     "text": [
      "True\n",
      "True\n",
      "True\n",
      "True\n",
      "True\n",
      "True\n",
      "True\n"
     ]
    }
   ],
   "source": [
    "## Testing replace_punc() and replace_num()\n",
    "## Expect 7 True prints to stdout \n",
    "\n",
    "def test_case(a,b):\n",
    "    a = replace_punc(a)\n",
    "    a = replace_num(a)\n",
    "    return (a == b)\n",
    "\n",
    "try1 = \"\"\"5 is the number five\"\"\"\n",
    "sol1 = \"\"\"num is the number five\"\"\"\n",
    "\n",
    "try2 = \"\"\"Kobe is the GOAT #24\"\"\"\n",
    "sol2 = \"\"\"Kobe is the GOAT num\"\"\"\n",
    "\n",
    "try3 = \"\"\"123456789\"\"\"\n",
    "sol3 = \"\"\"num\"\"\"\n",
    "\n",
    "try4 = \"\"\"1 2 3\"\"\"\n",
    "sol4 = \"\"\"num num num\"\"\"\n",
    "\n",
    "try5 = \"\"\".!?num#-*\\:;/'HELLO'\"\"\"\n",
    "sol5 = \"\"\"numHELLO\"\"\"\n",
    "\n",
    "try6 = \"\"\"$24 24% 24!\"\"\"\n",
    "sol6 = \"\"\"amt pct num\"\"\"\n",
    "\n",
    "finalTst = \"\"\"This is a terrible pr?oduct! Immediately ;'bro:ke!\" * when- it? fell. Waste of $24! 24% in test\"\"\"\n",
    "finalSol = \"\"\"This is a terrible product Immediately broke when it fell Waste of amt pct in test\"\"\"\n",
    "\n",
    "print(test_case(try1,sol1))\n",
    "print(test_case(try2,sol2))\n",
    "print(test_case(try3,sol3))\n",
    "print(test_case(try4,sol4))\n",
    "print(test_case(try5,sol5))\n",
    "print(test_case(try6,sol6))\n",
    "print(test_case(finalTst,finalSol))"
   ]
  },
  {
   "cell_type": "code",
   "execution_count": 127,
   "metadata": {},
   "outputs": [
    {
     "name": "stdout",
     "output_type": "stream",
     "text": [
      "**************HALF**************\n",
      "**************DONE**************\n"
     ]
    }
   ],
   "source": [
    "## Cleaning data by removing stop words, punctuations, lemmatization etc \n",
    "\n",
    "list_punctuations = ['.', '!', '?', '#', '-', '*', '\\\"', ';', ':', '\\/', '\\'']\n",
    "\n",
    "def get_pos(tag):\n",
    "    if tag.startswith('J'):\n",
    "        return wordnet.ADJ\n",
    "    elif tag.startswith('V'):\n",
    "        return wordnet.VERB\n",
    "    elif tag.startswith('N'):\n",
    "        return wordnet.NOUN\n",
    "    elif tag.startswith('R'):\n",
    "        return wordnet.ADV\n",
    "    else:\n",
    "        return wordnet.NOUN\n",
    "\n",
    "def clean_text(text):\n",
    "    # lower text\n",
    "    text = text.lower()\n",
    "    # remove puncutation and special characters\n",
    "    for char in list_punctuations:  \n",
    "        text = text.replace(char,'')\n",
    "    # remove stop words\n",
    "    stop = stopwords.words('english')\n",
    "    text = [x for x in text.split() if x not in stop]\n",
    "    # pos tag text\n",
    "    pos_tags = pos_tag(text)\n",
    "    # lemmatize text\n",
    "    text = [WordNetLemmatizer().lemmatize(t[0], get_pos(t[1])) for t in pos_tags]\n",
    "    # join all\n",
    "    text = \" \".join(text)\n",
    "    return(text)\n",
    "\n",
    "# clean text data first to adjust numbers \n",
    "df[\"first_clean\"] = df[\"reviewText\"].apply(lambda x: replace_num(x))\n",
    "print(\"**************HALF**************\")\n",
    "# second clean will tokenize and do the rest of the cleaning\n",
    "df[\"second_clean\"] = df[\"first_clean\"].apply(lambda x: clean_text(x))\n",
    "print(\"**************DONE**************\")"
   ]
  },
  {
   "cell_type": "code",
   "execution_count": 128,
   "metadata": {},
   "outputs": [
    {
     "data": {
      "text/html": [
       "<div>\n",
       "<style scoped>\n",
       "    .dataframe tbody tr th:only-of-type {\n",
       "        vertical-align: middle;\n",
       "    }\n",
       "\n",
       "    .dataframe tbody tr th {\n",
       "        vertical-align: top;\n",
       "    }\n",
       "\n",
       "    .dataframe thead th {\n",
       "        text-align: right;\n",
       "    }\n",
       "</style>\n",
       "<table border=\"1\" class=\"dataframe\">\n",
       "  <thead>\n",
       "    <tr style=\"text-align: right;\">\n",
       "      <th></th>\n",
       "      <th>reviewText</th>\n",
       "      <th>overall</th>\n",
       "      <th>sentiment</th>\n",
       "      <th>first_clean</th>\n",
       "      <th>second_clean</th>\n",
       "    </tr>\n",
       "  </thead>\n",
       "  <tbody>\n",
       "    <tr>\n",
       "      <th>0</th>\n",
       "      <td>These stickers work like the review says they ...</td>\n",
       "      <td>5</td>\n",
       "      <td>1.0</td>\n",
       "      <td>These stickers work like the review says they ...</td>\n",
       "      <td>sticker work like review say stick great stay ...</td>\n",
       "    </tr>\n",
       "    <tr>\n",
       "      <th>1</th>\n",
       "      <td>These are awesome and make my phone look so st...</td>\n",
       "      <td>5</td>\n",
       "      <td>1.0</td>\n",
       "      <td>These are awesome and make my phone look so st...</td>\n",
       "      <td>awesome make phone look stylish use one far al...</td>\n",
       "    </tr>\n",
       "    <tr>\n",
       "      <th>2</th>\n",
       "      <td>awesome! stays on, and looks great. can be use...</td>\n",
       "      <td>5</td>\n",
       "      <td>1.0</td>\n",
       "      <td>awesome! stays on, and looks great. can be use...</td>\n",
       "      <td>awesome stay on, look great used multiple appl...</td>\n",
       "    </tr>\n",
       "    <tr>\n",
       "      <th>3</th>\n",
       "      <td>Came just as described.. It doesn't come unstu...</td>\n",
       "      <td>5</td>\n",
       "      <td>1.0</td>\n",
       "      <td>Came just as described.. It doesn't come unstu...</td>\n",
       "      <td>come describe doesnt come unstuck cute people ...</td>\n",
       "    </tr>\n",
       "    <tr>\n",
       "      <th>4</th>\n",
       "      <td>it worked for the first week then it only char...</td>\n",
       "      <td>1</td>\n",
       "      <td>0.0</td>\n",
       "      <td>it worked for the first week then it only char...</td>\n",
       "      <td>work first week charge phone pct waste money</td>\n",
       "    </tr>\n",
       "  </tbody>\n",
       "</table>\n",
       "</div>"
      ],
      "text/plain": [
       "                                          reviewText  overall  sentiment  \\\n",
       "0  These stickers work like the review says they ...        5        1.0   \n",
       "1  These are awesome and make my phone look so st...        5        1.0   \n",
       "2  awesome! stays on, and looks great. can be use...        5        1.0   \n",
       "3  Came just as described.. It doesn't come unstu...        5        1.0   \n",
       "4  it worked for the first week then it only char...        1        0.0   \n",
       "\n",
       "                                         first_clean  \\\n",
       "0  These stickers work like the review says they ...   \n",
       "1  These are awesome and make my phone look so st...   \n",
       "2  awesome! stays on, and looks great. can be use...   \n",
       "3  Came just as described.. It doesn't come unstu...   \n",
       "4  it worked for the first week then it only char...   \n",
       "\n",
       "                                        second_clean  \n",
       "0  sticker work like review say stick great stay ...  \n",
       "1  awesome make phone look stylish use one far al...  \n",
       "2  awesome stay on, look great used multiple appl...  \n",
       "3  come describe doesnt come unstuck cute people ...  \n",
       "4       work first week charge phone pct waste money  "
      ]
     },
     "execution_count": 128,
     "metadata": {},
     "output_type": "execute_result"
    }
   ],
   "source": [
    "## Visualize difference between first_clean and second_clean + save to DF\n",
    "\n",
    "df.to_csv('pickleFiles/cleanDF.csv', sep = ',', index = False)\n",
    "df.head()"
   ]
  },
  {
   "cell_type": "markdown",
   "metadata": {},
   "source": [
    "## ** for future tests start from cleaned file **"
   ]
  },
  {
   "cell_type": "code",
   "execution_count": 129,
   "metadata": {},
   "outputs": [
    {
     "data": {
      "text/plain": [
       "reviewText      False\n",
       "overall         False\n",
       "sentiment       False\n",
       "first_clean     False\n",
       "second_clean    False\n",
       "dtype: bool"
      ]
     },
     "execution_count": 129,
     "metadata": {},
     "output_type": "execute_result"
    }
   ],
   "source": [
    "file = \"pickleFiles/cleanDF.csv\"\n",
    "df = pd.read_csv(file, encoding='latin1')\n",
    "df.head()\n",
    "df.isna().any()\n",
    "df = df.dropna(subset=['second_clean'])\n",
    "df.isna().any()"
   ]
  },
  {
   "cell_type": "markdown",
   "metadata": {},
   "source": [
    "## Step 3: create train test split"
   ]
  },
  {
   "cell_type": "code",
   "execution_count": 130,
   "metadata": {},
   "outputs": [
    {
     "name": "stdout",
     "output_type": "stream",
     "text": [
      "sticker work like review say stick great stay phone super stylish share sister )\n",
      "1.0\n"
     ]
    }
   ],
   "source": [
    "## This will split our data and labels\n",
    "## Ive added a print line as a sanity check to ensure the topic labels and reviews still match \n",
    "\n",
    "trainingData = df['second_clean'].values\n",
    "trainingLabel = df['sentiment'].values\n",
    "\n",
    "print(trainingData[0])\n",
    "print(trainingLabel[0])"
   ]
  },
  {
   "cell_type": "code",
   "execution_count": 131,
   "metadata": {},
   "outputs": [],
   "source": [
    "## Split our taining data into a test and train group \n",
    "\n",
    "X_train, X_test, y_train, y_test = train_test_split(\n",
    "    trainingData, trainingLabel, test_size=0.15, random_state=42)"
   ]
  },
  {
   "cell_type": "code",
   "execution_count": 132,
   "metadata": {},
   "outputs": [
    {
     "name": "stdout",
     "output_type": "stream",
     "text": [
      "(112897, 2500)\n",
      "(112897,)\n",
      "(19924, 2500)\n",
      "(19924,)\n"
     ]
    }
   ],
   "source": [
    "## Parameter election\n",
    "## max_df = .5 ---> Vocab should be in less than 50% of the documents (Avoid non-categorical terms)\n",
    "## min_df = 5 ---> Vocab should be in at more than 5 documents (Avoid terms that are random)\n",
    "\n",
    "tfidf = TfidfVectorizer(max_df =.5 ,\n",
    "                        min_df=5,\n",
    "                        max_features=2500)\n",
    "features_train = tfidf.fit_transform(X_train).toarray()\n",
    "labels_train = y_train\n",
    "print(features_train.shape)\n",
    "print(labels_train.shape)\n",
    "\n",
    "features_test = tfidf.transform(X_test).toarray()\n",
    "labels_test = y_test\n",
    "print(features_test.shape)\n",
    "print(labels_test.shape)"
   ]
  },
  {
   "cell_type": "markdown",
   "metadata": {},
   "source": [
    "## ** save tfidf vectorizer ** "
   ]
  },
  {
   "cell_type": "code",
   "execution_count": 133,
   "metadata": {},
   "outputs": [],
   "source": [
    "## Save count vectorizer\n",
    "pickle.dump(tfidf, open(\"pickleFiles/tfidf.pkl\",\"wb\"))"
   ]
  },
  {
   "cell_type": "markdown",
   "metadata": {},
   "source": [
    "## ** for future tests restore tfidf vectorizer **"
   ]
  },
  {
   "cell_type": "code",
   "execution_count": 134,
   "metadata": {},
   "outputs": [
    {
     "name": "stdout",
     "output_type": "stream",
     "text": [
      "(112897, 2500)\n",
      "(112897,)\n",
      "(19924, 2500)\n",
      "(19924,)\n"
     ]
    }
   ],
   "source": [
    "## Load saved count vectorizer\n",
    "tfidf2 = pickle.load(open(\"pickleFiles/tfidf.pkl\",\"rb\"))\n",
    "\n",
    "features_train = tfidf2.fit_transform(X_train).toarray()\n",
    "labels_train = y_train\n",
    "print(features_train.shape)\n",
    "print(labels_train.shape)\n",
    "\n",
    "features_test = tfidf2.transform(X_test).toarray()\n",
    "labels_test = y_test\n",
    "print(features_test.shape)\n",
    "print(labels_test.shape)"
   ]
  },
  {
   "cell_type": "code",
   "execution_count": 135,
   "metadata": {},
   "outputs": [],
   "source": [
    "sentiment_labels = [\"0.0\",\"1.0\"]"
   ]
  },
  {
   "cell_type": "markdown",
   "metadata": {},
   "source": [
    "## Step 4: train models and test performance"
   ]
  },
  {
   "cell_type": "code",
   "execution_count": 136,
   "metadata": {},
   "outputs": [
    {
     "name": "stderr",
     "output_type": "stream",
     "text": [
      "/opt/anaconda3/lib/python3.7/site-packages/sklearn/linear_model/_logistic.py:940: ConvergenceWarning: lbfgs failed to converge (status=1):\n",
      "STOP: TOTAL NO. of ITERATIONS REACHED LIMIT.\n",
      "\n",
      "Increase the number of iterations (max_iter) or scale the data as shown in:\n",
      "    https://scikit-learn.org/stable/modules/preprocessing.html\n",
      "Please also refer to the documentation for alternative solver options:\n",
      "    https://scikit-learn.org/stable/modules/linear_model.html#logistic-regression\n",
      "  extra_warning_msg=_LOGISTIC_SOLVER_CONVERGENCE_MSG)\n"
     ]
    },
    {
     "name": "stdout",
     "output_type": "stream",
     "text": [
      "confusion matrix for LR\n",
      "[[ 2424  1273]\n",
      " [  452 15775]]\n",
      "Accuracy: 0.9134209997992371\n",
      "              precision    recall  f1-score   support\n",
      "\n",
      "         0.0       0.84      0.66      0.74      3697\n",
      "         1.0       0.93      0.97      0.95     16227\n",
      "\n",
      "    accuracy                           0.91     19924\n",
      "   macro avg       0.88      0.81      0.84     19924\n",
      "weighted avg       0.91      0.91      0.91     19924\n",
      "\n"
     ]
    }
   ],
   "source": [
    "## Logistic Regression \n",
    "## Used to model the probability of a binary class i.e good/bad, pass/fail, cold/hot using the log function \n",
    "## Linear relationship between predictor variables and the log-odds of the event that Y=1\n",
    "\n",
    "## Train the model using features_train and labels_train \n",
    "modelLR = LogisticRegression()\n",
    "modelLR.fit(features_train, labels_train)\n",
    "\n",
    "## Logistic Regression Test + Score \n",
    "predictLR = modelLR.predict(features_test)\n",
    "LRScore = modelLR.score(features_test, labels_test)\n",
    "\n",
    "confusion_matLR = confusion_matrix(labels_test,predictLR)\n",
    "print('confusion matrix for LR')\n",
    "print(confusion_matLR)\n",
    "print('Accuracy:', LRScore)\n",
    "print(classification_report(labels_test, predictLR, target_names=sentiment_labels))\n",
    "\n",
    "## Record classification results in a CSV \n",
    "resultLR = pd.DataFrame( {'true_labels': labels_test,'predicted_labels': predictLR})\n",
    "resultLR.to_csv('pickleFiles/modelPerformance/resultLR.csv', sep = ',', index = False)\n",
    "\n",
    "## Save trained modelLR for future use \n",
    "pickle.dump(modelLR, open(\"pickleFiles/trainedModels/modelLR.pkl\", \"wb\"))"
   ]
  },
  {
   "cell_type": "code",
   "execution_count": 137,
   "metadata": {},
   "outputs": [
    {
     "name": "stdout",
     "output_type": "stream",
     "text": [
      "confusion matrix for NB\n",
      "[[  986  2711]\n",
      " [   59 16168]]\n",
      "Accuracy: 0.8609716924312387\n",
      "              precision    recall  f1-score   support\n",
      "\n",
      "         0.0       0.94      0.27      0.42      3697\n",
      "         1.0       0.86      1.00      0.92     16227\n",
      "\n",
      "    accuracy                           0.86     19924\n",
      "   macro avg       0.90      0.63      0.67     19924\n",
      "weighted avg       0.87      0.86      0.83     19924\n",
      "\n"
     ]
    }
   ],
   "source": [
    "## Multinomial Naive Bayes \n",
    "## Great for classifications that have \"counting\" features \n",
    "## Working off of the Naive Bayes algorithm, MNB will calculate the probability of each feature \n",
    "## occuring in each class and based on the set of input features it will predict the coresponding class\n",
    "\n",
    "## Train the model using features_train and labels_train \n",
    "modelNB = MultinomialNB()\n",
    "modelNB.fit(features_train, labels_train)\n",
    "\n",
    "## Naive Bayes Test + Score \n",
    "predictNB = modelNB.predict(features_test)\n",
    "NBScore = modelNB.score(features_test, labels_test)\n",
    "\n",
    "confusion_matNB = confusion_matrix(labels_test,predictNB)\n",
    "print('confusion matrix for NB')\n",
    "print(confusion_matNB)\n",
    "print('Accuracy:', NBScore)\n",
    "print(classification_report(labels_test, predictNB, target_names=sentiment_labels))\n",
    "\n",
    "## Record classification results in a CSV \n",
    "resultNB = pd.DataFrame( {'true_labels': labels_test,'predicted_labels': predictNB})\n",
    "resultNB.to_csv('pickleFiles/modelPerformance/resultNB.csv', sep = ',', index = False)\n",
    "\n",
    "## Save trained modelNB for future use \n",
    "pickle.dump(modelNB, open(\"pickleFiles/trainedModels/modelNB.pkl\", \"wb\"))"
   ]
  },
  {
   "cell_type": "code",
   "execution_count": 138,
   "metadata": {},
   "outputs": [
    {
     "name": "stdout",
     "output_type": "stream",
     "text": [
      "confusion matrix for SVM\n",
      "[[ 2547  1150]\n",
      " [  553 15674]]\n",
      "Accuracy: 0.9145251957438265\n",
      "              precision    recall  f1-score   support\n",
      "\n",
      "         0.0       0.82      0.69      0.75      3697\n",
      "         1.0       0.93      0.97      0.95     16227\n",
      "\n",
      "    accuracy                           0.91     19924\n",
      "   macro avg       0.88      0.83      0.85     19924\n",
      "weighted avg       0.91      0.91      0.91     19924\n",
      "\n"
     ]
    }
   ],
   "source": [
    "## Support Vector Machine (SVM)\n",
    "## High performance when there are lots of features i.e our 2500 word vocabulary \n",
    "## SVM plots each point on an n-dimension graph and tries to fit a hyperplane to divide each class\n",
    "\n",
    "## Train the model using features_train and labels_train \n",
    "modelSVM = svm.LinearSVC()\n",
    "modelSVM.fit(features_train, labels_train)\n",
    "\n",
    "## Support Vector Machine Test + Score \n",
    "predictSVM = modelSVM.predict(features_test)\n",
    "SVMScore = modelSVM.score(features_test, labels_test)\n",
    "\n",
    "confusion_matSVM = confusion_matrix(labels_test,predictSVM)\n",
    "print('confusion matrix for SVM')\n",
    "print(confusion_matSVM)\n",
    "print('Accuracy:', SVMScore)\n",
    "print(classification_report(labels_test, predictSVM, target_names=sentiment_labels))\n",
    "\n",
    "## Record classification results in a CSV \n",
    "resultSVM = pd.DataFrame( {'true_labels': labels_test,'predicted_labels': predictSVM})\n",
    "resultSVM.to_csv('pickleFiles/modelPerformance/resultSVM.csv', sep = ',', index = False)\n",
    "\n",
    "## Save trained modelLR for future use \n",
    "pickle.dump(modelSVM, open(\"pickleFiles/trainedModels/modelSVM.pkl\", \"wb\"))"
   ]
  },
  {
   "cell_type": "code",
   "execution_count": 139,
   "metadata": {},
   "outputs": [
    {
     "data": {
      "image/png": "[encoded data removed]",
      "text/plain": [
       "<Figure size 432x288 with 1 Axes>"
      ]
     },
     "metadata": {
      "needs_background": "light"
     },
     "output_type": "display_data"
    }
   ],
   "source": [
    "## Test accuracy of each model\n",
    "\n",
    "def find_accuracy(df):\n",
    "    total = len(df)\n",
    "    score = 0 \n",
    "    for i in range(len(df)):\n",
    "        if (df['true_labels'][i] == df['predicted_labels'][i]):\n",
    "            score += 1\n",
    "    return float(score)/total\n",
    "            \n",
    "dfSVM = pd.read_csv(\"pickleFiles/modelPerformance/resultSVM.csv\", encoding='latin1')\n",
    "dfLR = pd.read_csv(\"pickleFiles/modelPerformance/resultLR.csv\", encoding='latin1')\n",
    "dfNB = pd.read_csv(\"pickleFiles/modelPerformance/resultNB.csv\", encoding='latin1')\n",
    "\n",
    "accSVM = find_accuracy(dfSVM)\n",
    "accLR = find_accuracy(dfLR)\n",
    "accNB = find_accuracy(dfNB)\n",
    "\n",
    "models = ['NB', 'LR', 'SVM']\n",
    "accuracy = [accNB, accLR, accSVM]\n",
    "plt.ylim(.70, 1.0)\n",
    "plt.bar(models,accuracy) \n",
    "plt.show()"
   ]
  },
  {
   "cell_type": "markdown",
   "metadata": {},
   "source": [
    "## Step 5: restore final trained model "
   ]
  },
  {
   "cell_type": "code",
   "execution_count": 140,
   "metadata": {},
   "outputs": [],
   "source": [
    "## We will use SVM to test since it was the most accurate at 92%\n",
    "## Load saved SVM model and transform on test samples \n",
    "\n",
    "load_modelSVM = pickle.load(open(\"pickleFiles/trainedModels/modelSVM.pkl\",\"rb\"))"
   ]
  },
  {
   "cell_type": "code",
   "execution_count": 149,
   "metadata": {},
   "outputs": [
    {
     "name": "stdout",
     "output_type": "stream",
     "text": [
      "GOOD REVIEW\n",
      "BAD REVIEW\n",
      "BAD REVIEW\n",
      "GOOD REVIEW\n",
      "GOOD REVIEW\n",
      "GOOD REVIEW\n"
     ]
    }
   ],
   "source": [
    "## The following lines will be used to test classification in real time\n",
    "sentiment_labels = [\"BAD REVIEW\",\"GOOD REVIEW\"]\n",
    "\n",
    "def test_func(text):\n",
    "    example_features = tfidf2.transform(text).toarray()\n",
    "    predict_example = load_modelSVM.predict(example_features)\n",
    "    return predict_example\n",
    "\n",
    "def print_pred(pred):\n",
    "    print (sentiment_labels[int(pred)])\n",
    "\n",
    "example1 = [\"The product was amazing! Came right away and now my phone looks great\"]\n",
    "example2 = [\"The product did not work at all. It broke right away!\"]\n",
    "example3 = [\"My iphone will not charge no matter how long I wait. I would like a refund\"]\n",
    "example4 = [\"The phone case fit perfectly and looked really nice. I received many compliments\"]\n",
    "example5 = [\"The charger I bought it great! It chargest my Iphone 8 and is really fast\"]\n",
    "example6 = [\"Best headphones for their price point. I really liked them and would 100% recommend to my friends\"]\n",
    "\n",
    "print_pred(test_func(example1))\n",
    "print_pred(test_func(example2))\n",
    "print_pred(test_func(example3))\n",
    "print_pred(test_func(example4))\n",
    "print_pred(test_func(example5))\n",
    "print_pred(test_func(example6))"
   ]
  },
  {
   "cell_type": "code",
   "execution_count": 151,
   "metadata": {},
   "outputs": [
    {
     "name": "stdout",
     "output_type": "stream",
     "text": [
      "GOOD REVIEW\n"
     ]
    }
   ],
   "source": [
    "## Use this cell for live demo\n",
    "\n",
    "sentiment_labels = [\"BAD REVIEW\",\"GOOD REVIEW\"]\n",
    "\n",
    "test = [\"The phone case works great. I got lots of compliments!\"]\n",
    "\n",
    "print_pred(test_func(test))"
   ]
  },
  {
   "cell_type": "code",
   "execution_count": 152,
   "metadata": {},
   "outputs": [
    {
     "name": "stdout",
     "output_type": "stream",
     "text": [
      "BAD REVIEW\n"
     ]
    }
   ],
   "source": [
    "## Use this cell for live demo\n",
    "\n",
    "sentiment_labels = [\"BAD REVIEW\",\"GOOD REVIEW\"]\n",
    "\n",
    "test = [\"This phone case is terrible. Fraud!! I want my money back\"]\n",
    "\n",
    "print_pred(test_func(test))"
   ]
  },
  {
   "cell_type": "markdown",
   "metadata": {},
   "source": [
    "## The below is for future expansion (Ignore on run)"
   ]
  },
  {
   "cell_type": "code",
   "execution_count": 143,
   "metadata": {},
   "outputs": [],
   "source": [
    "# ## Commented code for an attempt to optimize SVM parameters. (Future target!)\n",
    "\n",
    "# control_svm =svm.SVC(random_state=42)\n",
    "# print(control_svm.get_params())\n",
    "\n",
    "# # Create C\n",
    "# C = [.0001, .001, .01]\n",
    "\n",
    "# # Create gamma\n",
    "# gamma = [.0001, .001, .01, .1, 1, 10, 100]\n",
    "\n",
    "# # Create kernel\n",
    "# kernel = ['linear', 'poly', 'rbf']\n",
    "\n",
    "# # Create degree\n",
    "# degree = [1, 2, 3]\n",
    "\n",
    "# # Create probability\n",
    "# probability = [True]\n",
    "\n",
    "# # Create the random grid\n",
    "# random_grid = {'C': C,\n",
    "#               'kernel': kernel,\n",
    "#               'gamma': gamma,\n",
    "#               'degree': degree,\n",
    "#               'probability': probability\n",
    "#              }\n",
    "\n",
    "# print(random_grid)"
   ]
  },
  {
   "cell_type": "code",
   "execution_count": 144,
   "metadata": {},
   "outputs": [],
   "source": [
    "# from sklearn.model_selection import RandomizedSearchCV\n",
    "\n",
    "# # Definition of the random search\n",
    "# random_search = RandomizedSearchCV(estimator=control_svm,\n",
    "#                                    param_distributions=random_grid,\n",
    "#                                    n_iter=15,\n",
    "#                                    cv=2, \n",
    "#                                    verbose=True, \n",
    "#                                    random_state=42)\n",
    "\n",
    "# # Fit the random search model\n",
    "# random_search.fit(features_train, labels_train)\n",
    "\n",
    "# print(\"Ideal hyperparameters:\")\n",
    "# print(random_search.best_params_)\n",
    "# print(\"\")\n",
    "# print(\"Average accuracy:\")\n",
    "# print(random_search.best_score_)"
   ]
  }
 ],
 "metadata": {
  "kernelspec": {
   "display_name": "Python 3",
   "language": "python",
   "name": "python3"
  },
  "language_info": {
   "codemirror_mode": {
    "name": "ipython",
    "version": 3
   },
   "file_extension": ".py",
   "mimetype": "text/x-python",
   "name": "python",
   "nbconvert_exporter": "python",
   "pygments_lexer": "ipython3",
   "version": "3.7.6"
  }
 },
 "nbformat": 4,
 "nbformat_minor": 4
}
